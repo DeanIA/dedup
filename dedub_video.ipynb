{
 "cells": [
  {
   "cell_type": "markdown",
   "id": "6e13800c",
   "metadata": {},
   "source": [
    "### Imports"
   ]
  },
  {
   "cell_type": "code",
   "execution_count": 1,
   "id": "82472ecb",
   "metadata": {},
   "outputs": [
    {
     "name": "stderr",
     "output_type": "stream",
     "text": [
      "/home/jupyter-dai7591/.conda/envs/dedup/lib/python3.10/site-packages/tqdm/auto.py:21: TqdmWarning: IProgress not found. Please update jupyter and ipywidgets. See https://ipywidgets.readthedocs.io/en/stable/user_install.html\n",
      "  from .autonotebook import tqdm as notebook_tqdm\n"
     ]
    }
   ],
   "source": [
    "import os\n",
    "import re\n",
    "import cv2\n",
    "import numpy as np\n",
    "import torch\n",
    "import faiss\n",
    "from PIL import Image\n",
    "from transformers import AutoProcessor, AutoModel\n",
    "import av\n",
    "import math\n",
    "from utils import *\n",
    "import pandas as pd\n",
    "\n",
    "VIDEO_DIR = \"input_videos\"\n",
    "EMB_FILE  = \"embeddings.npy\"\n",
    "ID_FILE   = \"embedding_ids.npy\"\n",
    "INDEX_PATH = \"clip_index.faiss\""
   ]
  },
  {
   "cell_type": "markdown",
   "id": "23397c79",
   "metadata": {},
   "source": [
    "### Load GPU"
   ]
  },
  {
   "cell_type": "code",
   "execution_count": 2,
   "id": "be64160a",
   "metadata": {},
   "outputs": [
    {
     "name": "stdout",
     "output_type": "stream",
     "text": [
      "running on GPU: cuda:1\n"
     ]
    }
   ],
   "source": [
    "device = \"cuda:1\" if torch.cuda.is_available() else \"cpu\"\n",
    "if device == \"cuda:1\":\n",
    "    print(f\"running on GPU: {device}\")\n",
    "else:\n",
    "    print(\"running on CPU\")"
   ]
  },
  {
   "cell_type": "markdown",
   "id": "541d8749",
   "metadata": {},
   "source": [
    "### Infer, index, store "
   ]
  },
  {
   "cell_type": "code",
   "execution_count": 3,
   "id": "d58c946a",
   "metadata": {},
   "outputs": [
    {
     "name": "stdout",
     "output_type": "stream",
     "text": [
      "number of total segments in directory: 1737\n",
      "[Batch 1] Inference on 256 IDs: 10 … 1626 → writing at rows 0 … 255\n",
      "[Batch 1] added to FAISS (index size now: 256)\n",
      "[Batch 2] Inference on 256 IDs: 1627 … 227 → writing at rows 256 … 511\n",
      "[Batch 2] added to FAISS (index size now: 512)\n",
      "[Batch 3] Inference on 256 IDs: 228 … 2796 → writing at rows 512 … 767\n",
      "[Batch 3] added to FAISS (index size now: 768)\n",
      "[Batch 4] Inference on 256 IDs: 2797 … 314 → writing at rows 768 … 1023\n",
      "[Batch 4] added to FAISS (index size now: 1024)\n",
      "[Batch 5] Inference on 256 IDs: 315 … 394 → writing at rows 1024 … 1279\n",
      "[Batch 5] added to FAISS (index size now: 1280)\n",
      "[Batch 6] Inference on 256 IDs: 395 … 643 → writing at rows 1280 … 1535\n",
      "[Batch 6] added to FAISS (index size now: 1536)\n",
      "[Batch 7] Inference on 200 IDs: 644 … 897 → writing at rows 1536 … 1735\n",
      "[Batch 7] added to FAISS (index size now: 1736)\n",
      "Total segments written: 1736\n",
      "FAISS index size: 1736\n",
      "Successfully processed 1736 video clips\n",
      "Data written to positions 0-1735 in memory arrays\n",
      "FAISS index saved to disk.\n"
     ]
    }
   ],
   "source": [
    "# Model config \n",
    "CKPT      = \"microsoft/xclip-base-patch32\"\n",
    "processor = AutoProcessor.from_pretrained(CKPT)\n",
    "model     = AutoModel.from_pretrained(CKPT).to(device)\n",
    "dim = 512\n",
    "BATCH = 256\n",
    "\n",
    "# Create memmaps\n",
    "max_rows = scan_dir(VIDEO_DIR)\n",
    "print(f\"number of total segments in directory: {max_rows}\")\n",
    "emb_memmap = create_memap(file_path=EMB_FILE, \n",
    "                          dtype=np.float32,\n",
    "                          shape=(max_rows, dim),\n",
    "                          init_value=0.0)\n",
    "\n",
    "id_memmap = create_memap(file_path=ID_FILE,\n",
    "                        dtype=np.int64,\n",
    "                        shape=(max_rows,),\n",
    "                        init_value=-1)\n",
    "\n",
    "# Create index \n",
    "index = faiss.IndexFlatL2(dim)\n",
    "index = faiss.IndexIDMap2(index)\n",
    "\n",
    "# Run infernece and index \n",
    "total_clips, final_write_ptr = process_video_directory(\n",
    "    VIDEO_DIR, processor, model, index, emb_memmap, id_memmap, BATCH\n",
    ")\n",
    "\n",
    "print(f\"Successfully processed {total_clips} video clips\")\n",
    "print(f\"Data written to positions 0-{final_write_ptr-1} in memory arrays\")\n",
    "assert final_write_ptr == total_clips, \"Mismatch between clips and write position!\"\n",
    "\n",
    "faiss.write_index(index, INDEX_PATH)\n",
    "print(\"FAISS index saved to disk.\")"
   ]
  },
  {
   "cell_type": "markdown",
   "id": "29e56e9e",
   "metadata": {},
   "source": [
    "### Find duplicates"
   ]
  },
  {
   "cell_type": "code",
   "execution_count": 6,
   "id": "45753aef",
   "metadata": {},
   "outputs": [
    {
     "name": "stdout",
     "output_type": "stream",
     "text": [
      "Loading embeddings and performing FAISS search...\n",
      "Prepared matrices for 1737 embeddings with k=100 neighbors\n",
      "Distance statistics:\n",
      "Min distance: 0.0000\n",
      "Max distance: 587.9579\n",
      "Mean distance: 178.1177\n",
      "Median distance: 167.3908\n",
      "95th percentile: 338.4974\n",
      "\n",
      "Non-self distances:\n",
      "Min: 0.0000\n",
      "Max: 587.9579\n",
      "Mean: 180.2496\n",
      "\n",
      "Unique thresholds in the critical range (0.0-0.05):\n",
      "Thresholds: [0.0, 0.0001, 0.0002, 0.0003, 0.0004, 0.001]\n",
      "Number of unique thresholds: 6\n",
      "Processing threshold: 0.0000\n",
      "Processing threshold: 0.0001\n",
      "Processing threshold: 0.0002\n",
      "Processing threshold: 0.0003\n",
      "Processing threshold: 0.0004\n",
      "Processing threshold: 0.0010\n",
      "Results exported to threshold_deduplication_results.csv\n",
      "\n",
      "Summary:\n",
      "Total files analyzed: 1418\n",
      "Thresholds tested: 6\n",
      "\n",
      "Threshold effectiveness analysis:\n",
      "Warning: Columns for threshold 0.0 not found in results\n",
      "Warning: Columns for threshold 0.0001 not found in results\n",
      "Warning: Columns for threshold 0.0002 not found in results\n",
      "Warning: Columns for threshold 0.0003 not found in results\n",
      "Warning: Columns for threshold 0.0004 not found in results\n",
      "Warning: Columns for threshold 0.001 not found in results\n",
      "\n",
      "First 10 rows:\n",
      "       File_name  Video_length  Threshold_0.0000 Duplicate_names_0.0000  Is_duplicate_0.0000  Total_non_duplicates_0.0000  Threshold_0.0001 Duplicate_names_0.0001  Is_duplicate_0.0001  Total_non_duplicates_0.0001  Threshold_0.0002 Duplicate_names_0.0002  Is_duplicate_0.0002  Total_non_duplicates_0.0002  Threshold_0.0003 Duplicate_names_0.0003  Is_duplicate_0.0003  Total_non_duplicates_0.0003  Threshold_0.0004 Duplicate_names_0.0004  Is_duplicate_0.0004  Total_non_duplicates_0.0004  Threshold_0.0010 Duplicate_names_0.0010  Is_duplicate_0.0010  Total_non_duplicates_0.0010\n",
      "0  TNS_0010_.mp4             1               0.0                   None                False                         1212            0.0001                   None                False                         1358            0.0002                   None                False                         1298            0.0003                   None                False                         1286            0.0004                   None                False                         1282             0.001                   None                False                         1282\n",
      "1  TNS_0011_.mp4             1               0.0                   None                False                         1212            0.0001                   None                False                         1358            0.0002                   None                False                         1298            0.0003                   None                False                         1286            0.0004                   None                False                         1282             0.001                   None                False                         1282\n",
      "2  TNS_0012_.mp4             1               0.0                   None                False                         1212            0.0001                   None                False                         1358            0.0002                   None                False                         1298            0.0003                   None                False                         1286            0.0004                   None                False                         1282             0.001                   None                False                         1282\n",
      "3  TNS_0013_.mp4             1               0.0                   None                False                         1212            0.0001                   None                False                         1358            0.0002                   None                False                         1298            0.0003                   None                False                         1286            0.0004                   None                False                         1282             0.001                   None                False                         1282\n",
      "4  TNS_0014_.mp4             1               0.0                   None                False                         1212            0.0001                   None                False                         1358            0.0002                   None                False                         1298            0.0003                   None                False                         1286            0.0004                   None                False                         1282             0.001                   None                False                         1282\n",
      "5  TNS_0015_.mp4             1               0.0                   None                False                         1212            0.0001                   None                False                         1358            0.0002                   None                False                         1298            0.0003                   None                False                         1286            0.0004                   None                False                         1282             0.001                   None                False                         1282\n",
      "6  TNS_0016_.mp4             1               0.0                   None                False                         1212            0.0001                   None                False                         1358            0.0002                   None                False                         1298            0.0003                   None                False                         1286            0.0004                   None                False                         1282             0.001                   None                False                         1282\n",
      "7  TNS_0017_.mp4             1               0.0                   None                False                         1212            0.0001                   None                False                         1358            0.0002                   None                False                         1298            0.0003                   None                False                         1286            0.0004                   None                False                         1282             0.001                   None                False                         1282\n",
      "8  TNS_0018_.mp4             1               0.0                   None                False                         1212            0.0001                   None                False                         1358            0.0002                   None                False                         1298            0.0003                   None                False                         1286            0.0004                   None                False                         1282             0.001                   None                False                         1282\n",
      "9  TNS_0019_.mp4             1               0.0                   None                False                         1212            0.0001                   None                False                         1358            0.0002                   None                False                         1298            0.0003                   None                False                         1286            0.0004                   None                False                         1282             0.001                   None                False                         1282\n"
     ]
    }
   ],
   "source": [
    "index = faiss.read_index(INDEX_PATH)\n",
    "\n",
    "# Get the distance matrix and check distribution \n",
    "distance_matrix, id_rows, faiss_ids, all_clip_ids = prepare_search_matrices(index, EMB_FILE)\n",
    "\n",
    "print(\"Distance statistics:\")\n",
    "print(f\"Min distance: {distance_matrix.min():.4f}\")\n",
    "print(f\"Max distance: {distance_matrix.max():.4f}\")\n",
    "print(f\"Mean distance: {distance_matrix.mean():.4f}\")\n",
    "print(f\"Median distance: {np.median(distance_matrix):.4f}\")\n",
    "print(f\"95th percentile: {np.percentile(distance_matrix, 95):.4f}\")\n",
    "\n",
    "# Check distances excluding self-similarity (column 0)\n",
    "non_self_distances = distance_matrix[:, 1:].flatten()\n",
    "non_self_distances = non_self_distances[non_self_distances > 0]  # Remove zeros\n",
    "print(f\"\\nNon-self distances:\")\n",
    "print(f\"Min: {non_self_distances.min():.4f}\")\n",
    "print(f\"Max: {non_self_distances.max():.4f}\")\n",
    "print(f\"Mean: {non_self_distances.mean():.4f}\")\n",
    "\n",
    "# Remove duplicates and ensure unique thresholds\n",
    "thresholds = [\n",
    "    0.0,      # Exact matches (159 pairs)\n",
    "    0.0001,   # Very strict (52 pairs) \n",
    "    0.0002,   # Moderate (97 pairs)\n",
    "    0.0003,   # Slightly more inclusive (104 pairs)\n",
    "    0.0004,   # All near-duplicates (107 pairs)\n",
    "    0.001     # Safety margin (same as 0.0004)\n",
    "]\n",
    "\n",
    "# Remove any duplicates while preserving order\n",
    "unique_thresholds = []\n",
    "seen = set()\n",
    "for thresh in thresholds:\n",
    "    if thresh not in seen:\n",
    "        unique_thresholds.append(thresh)\n",
    "        seen.add(thresh)\n",
    "\n",
    "thresholds = unique_thresholds\n",
    "print(f\"\\nUnique thresholds in the critical range (0.0-0.05):\")\n",
    "print(f\"Thresholds: {thresholds}\")\n",
    "print(f\"Number of unique thresholds: {len(thresholds)}\")\n",
    "\n",
    "# Run analysis with unique thresholds only\n",
    "df_results = analyze_multiple_thresholds(distance_matrix, id_rows, faiss_ids, thresholds)\n",
    "\n",
    "# Create DataFrame and export\n",
    "df_results = df_results.sort_values(['File_name'], ignore_index=True)\n",
    "output_file = \"threshold_deduplication_results.csv\"\n",
    "df_results.to_csv(output_file, index=False)\n",
    "print(f\"Results exported to {output_file}\")\n",
    "\n",
    "# Print summary\n",
    "print(f\"\\nSummary:\")\n",
    "print(f\"Total files analyzed: {len(df_results)}\")\n",
    "print(f\"Thresholds tested: {len(thresholds)}\")\n",
    "\n",
    "# Simple threshold effectiveness analysis\n",
    "print(f\"\\nThreshold effectiveness analysis:\")\n",
    "for thresh in thresholds:\n",
    "    is_dup_col = f'Is_duplicate_{thresh:.3f}'\n",
    "    total_non_dup_col = f'Total_non_duplicates_{thresh:.3f}'\n",
    "    \n",
    "    # Try .2f formatting if .3f doesn't exist\n",
    "    if is_dup_col not in df_results.columns:\n",
    "        is_dup_col = f'Is_duplicate_{thresh:.2f}'\n",
    "        total_non_dup_col = f'Total_non_duplicates_{thresh:.2f}'\n",
    "    \n",
    "    if is_dup_col in df_results.columns and total_non_dup_col in df_results.columns:\n",
    "        # Count files that are duplicates\n",
    "        dup_count = df_results[is_dup_col].sum()  # Sum of True values\n",
    "        total_files = len(df_results)\n",
    "        non_dup_count = total_files - dup_count\n",
    "        percentage = (dup_count / total_files) * 100\n",
    "        \n",
    "        print(f\"Threshold {thresh:7.3f}: {dup_count:3d} duplicates ({percentage:5.1f}%), {non_dup_count:4d} unique files\")\n",
    "    else:\n",
    "        print(f\"Warning: Columns for threshold {thresh} not found in results\")\n",
    "        \n",
    "print(f\"\\nFirst 10 rows:\")\n",
    "print(df_results.head(10).to_string())"
   ]
  },
  {
   "cell_type": "code",
   "execution_count": 7,
   "id": "94e4708d",
   "metadata": {},
   "outputs": [
    {
     "name": "stdout",
     "output_type": "stream",
     "text": [
      "Detailed threshold border analysis:\n",
      "Threshold  0.0000: 159 duplicate pairs\n",
      "\n",
      "*** CHANGE: Threshold 0.0000 -> 0.0001: 159 -> 52 duplicate pairs\n",
      "Threshold  0.0001:  52 duplicate pairs\n",
      "  - Unique distances <= 0.0001: 4 values\n",
      "  - Distance range: 0.000015 to 0.000092\n",
      "  - All distances: ['0.000015', '0.000031', '0.000061', '0.000092']\n",
      "\n",
      "*** CHANGE: Threshold 0.0001 -> 0.0002: 52 -> 97 duplicate pairs\n",
      "Threshold  0.0002:  97 duplicate pairs\n",
      "  - Unique distances <= 0.0002: 7 values\n",
      "  - Distance range: 0.000015 to 0.000183\n",
      "  - All distances: ['0.000015', '0.000031', '0.000061', '0.000092', '0.000122', '0.000153', '0.000183']\n",
      "\n",
      "*** CHANGE: Threshold 0.0002 -> 0.0003: 97 -> 104 duplicate pairs\n",
      "Threshold  0.0003: 104 duplicate pairs\n",
      "  - Unique distances <= 0.0003: 9 values\n",
      "  - Distance range: 0.000015 to 0.000244\n",
      "  - All distances: ['0.000015', '0.000031', '0.000061', '0.000092', '0.000122', '0.000153', '0.000183', '0.000214', '0.000244']\n",
      "\n",
      "*** CHANGE: Threshold 0.0003 -> 0.0004: 104 -> 107 duplicate pairs\n",
      "Threshold  0.0004: 107 duplicate pairs\n",
      "  - Unique distances <= 0.0004: 12 values\n",
      "  - Distance range: 0.000015 to 0.000366\n",
      "  - Sample distances: ['0.000015', '0.000031', '0.000061', '0.000092', '0.000122'] ... ['0.000214', '0.000244', '0.000305', '0.000336', '0.000366']\n",
      "\n",
      "Threshold  0.0010: 107 duplicate pairs\n",
      "  - Unique distances <= 0.001: 12 values\n",
      "  - Distance range: 0.000015 to 0.000366\n",
      "  - Sample distances: ['0.000015', '0.000031', '0.000061', '0.000092', '0.000122'] ... ['0.000214', '0.000244', '0.000305', '0.000336', '0.000366']\n",
      "\n"
     ]
    }
   ],
   "source": [
    "# Detailed debugging to find exact threshold borders\n",
    "print(\"Detailed threshold border analysis:\")\n",
    "prev_dup_count = None\n",
    "prev_thresh = None\n",
    "\n",
    "for thresh in thresholds[:20]:  # Check first 20 thresholds in detail\n",
    "    duplicates_ids = find_duplicates_at_threshold(distance_matrix, id_rows, faiss_ids, thresh)\n",
    "    dup_count = len(duplicates_ids)\n",
    "    \n",
    "    # Show when the count changes\n",
    "    if prev_dup_count is not None and dup_count != prev_dup_count:\n",
    "        print(f\"*** CHANGE: Threshold {prev_thresh:.4f} -> {thresh:.4f}: {prev_dup_count} -> {dup_count} duplicate pairs\")\n",
    "    \n",
    "    print(f\"Threshold {thresh:7.4f}: {dup_count:3d} duplicate pairs\")\n",
    "    \n",
    "    # Show distance distribution for this threshold\n",
    "    mask = (distance_matrix <= thresh) & (distance_matrix > 0.0)  # Exclude self-matches\n",
    "    matching_distances = distance_matrix[mask]\n",
    "    if len(matching_distances) > 0:\n",
    "        unique_distances = np.unique(matching_distances)\n",
    "        print(f\"  - Unique distances <= {thresh}: {len(unique_distances)} values\")\n",
    "        print(f\"  - Distance range: {unique_distances.min():.6f} to {unique_distances.max():.6f}\")\n",
    "        if len(unique_distances) <= 10:\n",
    "            print(f\"  - All distances: {[f'{d:.6f}' for d in unique_distances]}\")\n",
    "        else:\n",
    "            print(f\"  - Sample distances: {[f'{d:.6f}' for d in unique_distances[:5]]} ... {[f'{d:.6f}' for d in unique_distances[-5:]]}\")\n",
    "    \n",
    "    prev_dup_count = dup_count\n",
    "    prev_thresh = thresh\n",
    "    print()"
   ]
  },
  {
   "cell_type": "code",
   "execution_count": 8,
   "id": "8974dee5",
   "metadata": {},
   "outputs": [
    {
     "name": "stdout",
     "output_type": "stream",
     "text": [
      "Distance distribution in range 0-0.1:\n",
      "Total distances: 214\n",
      "Min: 0.000031\n",
      "Max: 0.000366\n",
      "Mean: 0.000112\n"
     ]
    },
    {
     "data": {
      "image/png": "[encoded data removed]",
      "text/plain": [
       "<Figure size 1200x600 with 1 Axes>"
      ]
     },
     "metadata": {},
     "output_type": "display_data"
    },
    {
     "name": "stdout",
     "output_type": "stream",
     "text": [
      "\n",
      "Distance quantiles:\n",
      "10th percentile: 0.000061\n",
      "25th percentile: 0.000061\n",
      "50th percentile: 0.000122\n",
      "75th percentile: 0.000122\n",
      "90th percentile: 0.000183\n",
      "95th percentile: 0.000244\n",
      "99th percentile: 0.000305\n"
     ]
    }
   ],
   "source": [
    "# Create a histogram of distances in the critical range\n",
    "import matplotlib.pyplot as plt\n",
    "\n",
    "# Get non-self distances in the critical range\n",
    "non_self_distances = distance_matrix[:, 1:].flatten()\n",
    "non_self_distances = non_self_distances[non_self_distances > 0]  # Remove zeros\n",
    "critical_distances = non_self_distances[non_self_distances <= 0.1]  # Focus on 0-0.1 range\n",
    "\n",
    "print(f\"Distance distribution in range 0-0.1:\")\n",
    "print(f\"Total distances: {len(critical_distances)}\")\n",
    "print(f\"Min: {critical_distances.min():.6f}\")\n",
    "print(f\"Max: {critical_distances.max():.6f}\")\n",
    "print(f\"Mean: {critical_distances.mean():.6f}\")\n",
    "\n",
    "# Create histogram\n",
    "plt.figure(figsize=(12, 6))\n",
    "plt.hist(critical_distances, bins=100, alpha=0.7, edgecolor='black')\n",
    "plt.xlabel('Distance')\n",
    "plt.ylabel('Frequency')\n",
    "plt.title('Distribution of Distances (0-0.1 range)')\n",
    "plt.grid(True, alpha=0.3)\n",
    "plt.show()\n",
    "\n",
    "# Show quantiles to understand distribution\n",
    "quantiles = [0.1, 0.25, 0.5, 0.75, 0.9, 0.95, 0.99]\n",
    "print(f\"\\nDistance quantiles:\")\n",
    "for q in quantiles:\n",
    "    val = np.quantile(critical_distances, q)\n",
    "    print(f\"{q*100:2.0f}th percentile: {val:.6f}\")"
   ]
  }
 ],
 "metadata": {
  "kernelspec": {
   "display_name": "dedup",
   "language": "python",
   "name": "python3"
  },
  "language_info": {
   "codemirror_mode": {
    "name": "ipython",
    "version": 3
   },
   "file_extension": ".py",
   "mimetype": "text/x-python",
   "name": "python",
   "nbconvert_exporter": "python",
   "pygments_lexer": "ipython3",
   "version": "3.10.17"
  }
 },
 "nbformat": 4,
 "nbformat_minor": 5
}
